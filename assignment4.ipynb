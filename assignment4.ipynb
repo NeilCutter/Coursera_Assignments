{
  "cells": [
    {
      "cell_type": "markdown",
      "metadata": {
        "id": "view-in-github",
        "colab_type": "text"
      },
      "source": [
        "<a href=\"https://colab.research.google.com/github/NeilCutter/Coursera_Assignments/blob/main/assignment4.ipynb\" target=\"_parent\"><img src=\"https://colab.research.google.com/assets/colab-badge.svg\" alt=\"Open In Colab\"/></a>"
      ]
    },
    {
      "cell_type": "markdown",
      "metadata": {
        "deletable": false,
        "editable": false,
        "nbgrader": {
          "checksum": "48770f8b5f5d3062d3badd51fcafc401",
          "grade": false,
          "grade_id": "cell-a6c4f74309fc2379",
          "locked": true,
          "schema_version": 1,
          "solution": false
        },
        "id": "NIXIWLzr9AHl"
      },
      "source": [
        "# Assignment 4\n",
        "## Description\n",
        "In this assignment you must read in a file of metropolitan regions and associated sports teams from [assets/wikipedia_data.html](assets/wikipedia_data.html) and answer some questions about each metropolitan region. Each of these regions may have one or more teams from the \"Big 4\": NFL (football, in [assets/nfl.csv](assets/nfl.csv)), MLB (baseball, in [assets/mlb.csv](assets/mlb.csv)), NBA (basketball, in [assets/nba.csv](assets/nba.csv) or NHL (hockey, in [assets/nhl.csv](assets/nhl.csv)). Please keep in mind that all questions are from the perspective of the metropolitan region, and that this file is the \"source of authority\" for the location of a given sports team. Thus teams which are commonly known by a different area (e.g. \"Oakland Raiders\") need to be mapped into the metropolitan region given (e.g. San Francisco Bay Area). This will require some human data understanding outside of the data you've been given (e.g. you will have to hand-code some names, and might need to google to find out where teams are)!\n",
        "\n",
        "For each sport I would like you to answer the question: **what is the win/loss ratio's correlation with the population of the city it is in?** Win/Loss ratio refers to the number of wins over the number of wins plus the number of losses. Remember that to calculate the correlation with [`pearsonr`](https://docs.scipy.org/doc/scipy/reference/generated/scipy.stats.pearsonr.html), so you are going to send in two ordered lists of values, the populations from the wikipedia_data.html file and the win/loss ratio for a given sport in the same order. Average the win/loss ratios for those cities which have multiple teams of a single sport. Each sport is worth an equal amount in this assignment (20%\\*4=80%) of the grade for this assignment. You should only use data **from year 2018** for your analysis -- this is important!\n",
        "\n",
        "## Notes\n",
        "\n",
        "1. Do not include data about the MLS or CFL in any of the work you are doing, we're only interested in the Big 4 in this assignment.\n",
        "2. I highly suggest that you first tackle the four correlation questions in order, as they are all similar and worth the majority of grades for this assignment. This is by design!\n",
        "3. It's fair game to talk with peers about high level strategy as well as the relationship between metropolitan areas and sports teams. However, do not post code solving aspects of the assignment (including such as dictionaries mapping areas to teams, or regexes which will clean up names).\n",
        "4. There may be more teams than the assert statements test, remember to collapse multiple teams in one city into a single value!"
      ]
    },
    {
      "cell_type": "code",
      "source": [
        "from google.colab import drive\n",
        "drive.mount('/content/drive')"
      ],
      "metadata": {
        "colab": {
          "base_uri": "https://localhost:8080/"
        },
        "id": "pte6ZEAt9NZj",
        "outputId": "013dd063-f990-442a-eae7-4d0bd8f3fe7c"
      },
      "execution_count": null,
      "outputs": [
        {
          "output_type": "stream",
          "name": "stdout",
          "text": [
            "Mounted at /content/drive\n"
          ]
        }
      ]
    },
    {
      "cell_type": "markdown",
      "metadata": {
        "deletable": false,
        "editable": false,
        "nbgrader": {
          "checksum": "369ff9ecf0ee04640574205cbc697f94",
          "grade": false,
          "grade_id": "cell-712b2b5da63d4505",
          "locked": true,
          "schema_version": 1,
          "solution": false
        },
        "id": "CCXCkml19AHr"
      },
      "source": [
        "## Question 1\n",
        "For this question, calculate the win/loss ratio's correlation with the population of the city it is in for the **NHL** using **2018** data."
      ]
    },
    {
      "cell_type": "code",
      "execution_count": null,
      "metadata": {
        "deletable": false,
        "nbgrader": {
          "checksum": "1cac4803b02502929f5b1612d48db2b5",
          "grade": false,
          "grade_id": "cell-69b16e4386e58030",
          "locked": false,
          "schema_version": 1,
          "solution": true
        },
        "id": "a5kFTsCk9AHr"
      },
      "outputs": [],
      "source": [
        "import pandas as pd\n",
        "import numpy as np\n",
        "import scipy.stats as stats\n",
        "import re\n",
        "\n",
        "nhl_df=pd.read_csv(\"/content/drive/MyDrive/Datasets/assignment4/assets/nhl.csv\")\n",
        "cities=pd.read_html(\"/content/drive/MyDrive/Datasets/assignment4/assets/wikipedia_data.html\")[1]\n",
        "cities=cities.iloc[:-1,[0,3,5,6,7,8]]\n",
        "\n",
        "\n",
        "def clean_nhl():\n",
        "    global nhl_df\n",
        "    #NHL\n",
        "    nhl_df = nhl_df[nhl_df[\"year\"] == 2018]\n",
        "    nhl_df = nhl_df[[\"team\", \"W\", \"L\"]]\n",
        "    nhl_df[\"team\"].replace(regex=\"\\*\", value=\"\", inplace=True)\n",
        "    nhl_df[\"team only\"] = nhl_df.team.apply(lambda x: x.rsplit(None, 1)[-1])\n",
        "    nhl_df = nhl_df.where(nhl_df[\"team only\"] != \"Division\").dropna(axis=0)\n",
        "    nhl_df[\"team only\"].replace([\"Leafs\", \"Jackets\", \"Wings\", \"Knights\"],\n",
        "                                [\"Maple Leafs\", \"Blue Jackets\", \"Red Wings\", \"Golden Knights\"], inplace=True)\n",
        "    team1 = [\"Rangers\", \"Islanders\", \"Devils\"]\n",
        "    team2 = [\"Kings\", \"Ducks\"]\n",
        "    nhl_df[\"team only\"].replace(team1, \"RangersIslandersDevils\", inplace=True)\n",
        "    nhl_df[\"team only\"].replace(team2, \"KingsDucks\", inplace=True)\n",
        "    nhl_df[\"W\"] = nhl_df[\"W\"].astype(float)\n",
        "    nhl_df[\"L\"] = nhl_df[\"L\"].astype(float)\n",
        "    nhl_df = nhl_df.groupby(by=\"team only\")[\"W\", \"L\"].mean()\n",
        "    nhl_df = nhl_df.reset_index()\n",
        "    return nhl_df\n",
        "\n",
        "def clean_cities():\n",
        "    #CITIES\n",
        "    global cities\n",
        "    cities.rename(columns={\"Metropolitan area\": \"Area\", \n",
        "                           \"Population (2016 est.)[8]\": \"Population\",\n",
        "                           \"NHL\": \"team only\"}, inplace=True)\n",
        "    cities[\"team only\"].replace(regex=\"\\[.*\\]\", value=\"\", inplace=True)\n",
        "    cities = cities[[\"Area\", \"Population\", \"team only\"]]\n",
        "\n",
        "    return cities\n",
        "\n",
        "def merge():\n",
        "    #MERGE\n",
        "    nhl_df = clean_nhl()\n",
        "    cities = clean_cities()\n",
        "    merge_df = pd.merge(cities, nhl_df, how=\"inner\", on=\"team only\")\n",
        "    merge_df[\"Ratio\"] = merge_df[\"W\"] / merge_df[[\"W\", \"L\"]].sum(axis=1)\n",
        "    merge_df[\"Ratio\"] = merge_df[\"Ratio\"].astype(float)\n",
        "\n",
        "    return merge_df\n",
        "\n",
        "def nhl_correlation():\n",
        "    # raise NotImplementedError()\n",
        "    merge_df = merge()\n",
        "    population_by_region = [float(i) for i in merge_df[\"Population\"]] # pass in metropolitan area population from cities\n",
        "    win_loss_by_region = [float(i) for i in merge_df[\"Ratio\"]] # pass in win/loss ratio from nhl_df in the same order as cities[\"Metropolitan area\"]\n",
        "\n",
        "    assert len(population_by_region) == len(win_loss_by_region), \"Q1: Your lists must be the same length\"\n",
        "    assert len(population_by_region) == 28, \"Q1: There should be 28 teams being analysed for NHL\"\n",
        "    \n",
        "    return stats.pearsonr(population_by_region, win_loss_by_region)"
      ]
    },
    {
      "cell_type": "code",
      "source": [
        "nhl_correlation()"
      ],
      "metadata": {
        "colab": {
          "base_uri": "https://localhost:8080/"
        },
        "id": "2j2YZXqbgPk7",
        "outputId": "9d22001c-6c99-4381-fe43-7a9a8bb3a513"
      },
      "execution_count": null,
      "outputs": [
        {
          "output_type": "stream",
          "name": "stderr",
          "text": [
            "/usr/local/lib/python3.7/dist-packages/ipykernel_launcher.py:27: FutureWarning: Indexing with multiple keys (implicitly converted to a tuple of keys) will be deprecated, use a list instead.\n"
          ]
        },
        {
          "output_type": "execute_result",
          "data": {
            "text/plain": [
              "(0.012308996455744289, 0.9504308637909502)"
            ]
          },
          "metadata": {},
          "execution_count": 134
        }
      ]
    },
    {
      "cell_type": "markdown",
      "metadata": {
        "deletable": false,
        "editable": false,
        "nbgrader": {
          "checksum": "988912cae4968d81473f46d783e79c16",
          "grade": false,
          "grade_id": "cell-cb964e690298b71d",
          "locked": true,
          "schema_version": 1,
          "solution": false
        },
        "id": "ZZlZY-k19AHs"
      },
      "source": [
        "## Question 2\n",
        "For this question, calculate the win/loss ratio's correlation with the population of the city it is in for the **NBA** using **2018** data."
      ]
    },
    {
      "cell_type": "code",
      "source": [
        "sample = 0"
      ],
      "metadata": {
        "id": "Du8RR4iOgOrO"
      },
      "execution_count": null,
      "outputs": []
    },
    {
      "cell_type": "code",
      "execution_count": null,
      "metadata": {
        "deletable": false,
        "nbgrader": {
          "checksum": "9394222aafc8ccab0a228098ba0d6010",
          "grade": false,
          "grade_id": "cell-5a5f21279e3d3572",
          "locked": false,
          "schema_version": 1,
          "solution": true
        },
        "id": "qoQW7m0s9AHs"
      },
      "outputs": [],
      "source": [
        "import pandas as pd\n",
        "import numpy as np\n",
        "import scipy.stats as stats\n",
        "import re\n",
        "\n",
        "nba_df=pd.read_csv(\"assets/nba.csv\")\n",
        "cities=pd.read_html(\"assets/wikipedia_data.html\")[1]\n",
        "cities=cities.iloc[:-1,[0,3,5,6,7,8]]\n",
        "\n",
        "def nba_correlation():\n",
        "    # YOUR CODE HERE\n",
        "    raise NotImplementedError()\n",
        "    \n",
        "    population_by_region = [] # pass in metropolitan area population from cities\n",
        "    win_loss_by_region = [] # pass in win/loss ratio from nba_df in the same order as cities[\"Metropolitan area\"]\n",
        "\n",
        "    assert len(population_by_region) == len(win_loss_by_region), \"Q2: Your lists must be the same length\"\n",
        "    assert len(population_by_region) == 28, \"Q2: There should be 28 teams being analysed for NBA\"\n",
        "\n",
        "    return stats.pearsonr(population_by_region, win_loss_by_region)"
      ]
    },
    {
      "cell_type": "code",
      "execution_count": null,
      "metadata": {
        "deletable": false,
        "editable": false,
        "nbgrader": {
          "checksum": "bbdeb8eb22f525a34c10dc8798324e42",
          "grade": true,
          "grade_id": "cell-e573b2b4a282b470",
          "locked": true,
          "points": 20,
          "schema_version": 1,
          "solution": false
        },
        "id": "JBAR_VCN9AHt"
      },
      "outputs": [],
      "source": []
    },
    {
      "cell_type": "markdown",
      "metadata": {
        "deletable": false,
        "editable": false,
        "nbgrader": {
          "checksum": "1a1a5809f675ca033086422007cd73bd",
          "grade": false,
          "grade_id": "cell-96e15e4335df78f4",
          "locked": true,
          "schema_version": 1,
          "solution": false
        },
        "id": "7XIEosu-9AHt"
      },
      "source": [
        "## Question 3\n",
        "For this question, calculate the win/loss ratio's correlation with the population of the city it is in for the **MLB** using **2018** data."
      ]
    },
    {
      "cell_type": "code",
      "execution_count": null,
      "metadata": {
        "deletable": false,
        "nbgrader": {
          "checksum": "27e8c0da6c9fa0dffc10488314335b6c",
          "grade": false,
          "grade_id": "cell-33b00fc3f3467b0c",
          "locked": false,
          "schema_version": 1,
          "solution": true
        },
        "id": "QY4Ba-WD9AHt"
      },
      "outputs": [],
      "source": [
        "import pandas as pd\n",
        "import numpy as np\n",
        "import scipy.stats as stats\n",
        "import re\n",
        "\n",
        "mlb_df=pd.read_csv(\"assets/mlb.csv\")\n",
        "cities=pd.read_html(\"assets/wikipedia_data.html\")[1]\n",
        "cities=cities.iloc[:-1,[0,3,5,6,7,8]]\n",
        "\n",
        "def mlb_correlation(): \n",
        "    # YOUR CODE HERE\n",
        "    raise NotImplementedError()\n",
        "    \n",
        "    population_by_region = [] # pass in metropolitan area population from cities\n",
        "    win_loss_by_region = [] # pass in win/loss ratio from mlb_df in the same order as cities[\"Metropolitan area\"]\n",
        "\n",
        "    assert len(population_by_region) == len(win_loss_by_region), \"Q3: Your lists must be the same length\"\n",
        "    assert len(population_by_region) == 26, \"Q3: There should be 26 teams being analysed for MLB\"\n",
        "\n",
        "    return stats.pearsonr(population_by_region, win_loss_by_region)"
      ]
    },
    {
      "cell_type": "code",
      "execution_count": null,
      "metadata": {
        "deletable": false,
        "editable": false,
        "nbgrader": {
          "checksum": "cda33b094ba19ccc37a481e0dd29e0bc",
          "grade": true,
          "grade_id": "cell-764d4476f425c5a2",
          "locked": true,
          "points": 20,
          "schema_version": 1,
          "solution": false
        },
        "id": "0KD7uKDH9AHu"
      },
      "outputs": [],
      "source": []
    },
    {
      "cell_type": "markdown",
      "metadata": {
        "deletable": false,
        "editable": false,
        "nbgrader": {
          "checksum": "6977a6da9ed6d8b7a0b7e37bbeda709b",
          "grade": false,
          "grade_id": "cell-793df6c04dfb126e",
          "locked": true,
          "schema_version": 1,
          "solution": false
        },
        "id": "vdY6TFsY9AHv"
      },
      "source": [
        "## Question 4\n",
        "For this question, calculate the win/loss ratio's correlation with the population of the city it is in for the **NFL** using **2018** data."
      ]
    },
    {
      "cell_type": "code",
      "execution_count": null,
      "metadata": {
        "deletable": false,
        "nbgrader": {
          "checksum": "c4914ad1e119278ec2bd567c52640b66",
          "grade": false,
          "grade_id": "cell-8ccebc209aeec8d9",
          "locked": false,
          "schema_version": 1,
          "solution": true
        },
        "id": "wUY9qAfp9AHv"
      },
      "outputs": [],
      "source": [
        "import pandas as pd\n",
        "import numpy as np\n",
        "import scipy.stats as stats\n",
        "import re\n",
        "\n",
        "nfl_df=pd.read_csv(\"assets/nfl.csv\")\n",
        "cities=pd.read_html(\"assets/wikipedia_data.html\")[1]\n",
        "cities=cities.iloc[:-1,[0,3,5,6,7,8]]\n",
        "\n",
        "def nfl_correlation(): \n",
        "    # YOUR CODE HERE\n",
        "    raise NotImplementedError()\n",
        "    \n",
        "    population_by_region = [] # pass in metropolitan area population from cities\n",
        "    win_loss_by_region = [] # pass in win/loss ratio from nfl_df in the same order as cities[\"Metropolitan area\"]\n",
        "\n",
        "    assert len(population_by_region) == len(win_loss_by_region), \"Q4: Your lists must be the same length\"\n",
        "    assert len(population_by_region) == 29, \"Q4: There should be 29 teams being analysed for NFL\"\n",
        "\n",
        "    return stats.pearsonr(population_by_region, win_loss_by_region)"
      ]
    },
    {
      "cell_type": "code",
      "execution_count": null,
      "metadata": {
        "deletable": false,
        "editable": false,
        "nbgrader": {
          "checksum": "e9415d6399aa49e3a1a60813afdefa3b",
          "grade": true,
          "grade_id": "cell-de7b148b9554dbda",
          "locked": true,
          "points": 20,
          "schema_version": 1,
          "solution": false
        },
        "id": "ODMZPSFa9AHv"
      },
      "outputs": [],
      "source": []
    },
    {
      "cell_type": "markdown",
      "metadata": {
        "deletable": false,
        "editable": false,
        "nbgrader": {
          "checksum": "b02d5cd3273f561e4ae939bb2a41740c",
          "grade": false,
          "grade_id": "cell-97b49d8639e908c4",
          "locked": true,
          "schema_version": 1,
          "solution": false
        },
        "id": "UbR0kykR9AHv"
      },
      "source": [
        "## Question 5\n",
        "In this question I would like you to explore the hypothesis that **given that an area has two sports teams in different sports, those teams will perform the same within their respective sports**. How I would like to see this explored is with a series of paired t-tests (so use [`ttest_rel`](https://docs.scipy.org/doc/scipy/reference/generated/scipy.stats.ttest_rel.html)) between all pairs of sports. Are there any sports where we can reject the null hypothesis? Again, average values where a sport has multiple teams in one region. Remember, you will only be including, for each sport, cities which have teams engaged in that sport, drop others as appropriate. This question is worth 20% of the grade for this assignment."
      ]
    },
    {
      "cell_type": "code",
      "execution_count": null,
      "metadata": {
        "deletable": false,
        "nbgrader": {
          "checksum": "92b8bedc9c49fca1ef724ab5ce526db5",
          "grade": false,
          "grade_id": "cell-92f25f44b8d1179f",
          "locked": false,
          "schema_version": 1,
          "solution": true
        },
        "id": "3H2r2j7Z9AHv"
      },
      "outputs": [],
      "source": [
        "import pandas as pd\n",
        "import numpy as np\n",
        "import scipy.stats as stats\n",
        "import re\n",
        "\n",
        "mlb_df=pd.read_csv(\"assets/mlb.csv\")\n",
        "nhl_df=pd.read_csv(\"assets/nhl.csv\")\n",
        "nba_df=pd.read_csv(\"assets/nba.csv\")\n",
        "nfl_df=pd.read_csv(\"assets/nfl.csv\")\n",
        "cities=pd.read_html(\"assets/wikipedia_data.html\")[1]\n",
        "cities=cities.iloc[:-1,[0,3,5,6,7,8]]\n",
        "\n",
        "def sports_team_performance():\n",
        "    # YOUR CODE HERE\n",
        "    raise NotImplementedError()\n",
        "    \n",
        "    # Note: p_values is a full dataframe, so df.loc[\"NFL\",\"NBA\"] should be the same as df.loc[\"NBA\",\"NFL\"] and\n",
        "    # df.loc[\"NFL\",\"NFL\"] should return np.nan\n",
        "    sports = ['NFL', 'NBA', 'NHL', 'MLB']\n",
        "    p_values = pd.DataFrame({k:np.nan for k in sports}, index=sports)\n",
        "    \n",
        "    assert abs(p_values.loc[\"NBA\", \"NHL\"] - 0.02) <= 1e-2, \"The NBA-NFL p-value should be around 0.02\"\n",
        "    assert abs(p_values.loc[\"MLB\", \"NFL\"] - 0.80) <= 1e-2, \"The MLB-NFL p-value should be around 0.80\"\n",
        "    return p_values"
      ]
    },
    {
      "cell_type": "code",
      "execution_count": null,
      "metadata": {
        "deletable": false,
        "editable": false,
        "nbgrader": {
          "checksum": "2a596ab421a45cc01168d10e8fbb8f89",
          "grade": true,
          "grade_id": "cell-fb4b9cb5ff4570a6",
          "locked": true,
          "points": 20,
          "schema_version": 1,
          "solution": false
        },
        "id": "1QgOdMXD9AHw"
      },
      "outputs": [],
      "source": []
    }
  ],
  "metadata": {
    "coursera": {
      "schema_names": [
        "mooc_adswpy_1_v2_assignment4"
      ]
    },
    "kernelspec": {
      "display_name": "Python 3",
      "language": "python",
      "name": "python3"
    },
    "language_info": {
      "codemirror_mode": {
        "name": "ipython",
        "version": 3
      },
      "file_extension": ".py",
      "mimetype": "text/x-python",
      "name": "python",
      "nbconvert_exporter": "python",
      "pygments_lexer": "ipython3",
      "version": "3.7.3"
    },
    "colab": {
      "provenance": [],
      "collapsed_sections": [],
      "include_colab_link": true
    }
  },
  "nbformat": 4,
  "nbformat_minor": 0
}